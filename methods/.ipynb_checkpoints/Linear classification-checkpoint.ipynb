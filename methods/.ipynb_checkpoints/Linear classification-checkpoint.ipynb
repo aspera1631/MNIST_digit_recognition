{
 "cells": [
  {
   "cell_type": "code",
   "execution_count": 15,
   "metadata": {
    "collapsed": true
   },
   "outputs": [],
   "source": [
    "__author__ = 'Brad'\n",
    "\n",
    "\n",
    "import numpy as np\n",
    "import pandas as pd\n",
    "import matplotlib.pyplot as plt\n",
    "import matplotlib.cm as cm\n",
    "import matplotlib.image as mpimg\n",
    "import seaborn as sns\n",
    "from mpl_toolkits.axes_grid1 import ImageGrid\n",
    "\n",
    "from sklearn.decomposition import PCA\n",
    "from sklearn import svm\n",
    "\n",
    "%matplotlib inline"
   ]
  },
  {
   "cell_type": "code",
   "execution_count": 16,
   "metadata": {
    "collapsed": false
   },
   "outputs": [
    {
     "name": "stdout",
     "output_type": "stream",
     "text": [
      "       label  pixel0  pixel1  pixel2  pixel3  pixel4  pixel5  pixel6  pixel7  \\\n",
      "1305       9       0       0       0       0       0       0       0       0   \n",
      "34542      1       0       0       0       0       0       0       0       0   \n",
      "32428      3       0       0       0       0       0       0       0       0   \n",
      "7469       6       0       0       0       0       0       0       0       0   \n",
      "17825      6       0       0       0       0       0       0       0       0   \n",
      "\n",
      "       pixel8    ...     pixel774  pixel775  pixel776  pixel777  pixel778  \\\n",
      "1305        0    ...            0         0         0         0         0   \n",
      "34542       0    ...            0         0         0         0         0   \n",
      "32428       0    ...            0         0         0         0         0   \n",
      "7469        0    ...            0         0         0         0         0   \n",
      "17825       0    ...            0         0         0         0         0   \n",
      "\n",
      "       pixel779  pixel780  pixel781  pixel782  pixel783  \n",
      "1305          0         0         0         0         0  \n",
      "34542         0         0         0         0         0  \n",
      "32428         0         0         0         0         0  \n",
      "7469          0         0         0         0         0  \n",
      "17825         0         0         0         0         0  \n",
      "\n",
      "[5 rows x 785 columns]\n"
     ]
    }
   ],
   "source": [
    "# The competition datafiles are in the directory ../input\n",
    "# Read competition data files.\n",
    "# We want to do some validation, but we don't have a key for the test set.\n",
    "# So first I'll separate off about 20% of the training set to act as a test.\n",
    "data = pd.read_csv(\"../input/train.csv\")\n",
    "\n",
    "test_samples = 8400\n",
    "shuffled = data.sample(len(data.index)) # rearrange the entire data set at random\n",
    "\n",
    "test = shuffled[:test_samples] # take the first n as a test set\n",
    "train = shuffled[test_samples:] # take the rest as the training set\n",
    "\n",
    "train_x = train.values[:,1:]\n",
    "train_y = train.values[:,0]\n",
    "test_x = train.values[:,1:]\n",
    "test_y = train.values[:,0]\n",
    "\n",
    "\n",
    "print train.head()"
   ]
  },
  {
   "cell_type": "markdown",
   "metadata": {
    "collapsed": true
   },
   "source": [
    "let's take a look at one of the training examples. \n",
    "To do that, I'll make a helper function that indexes the dataframe and reshapes it. Then I'll make an image using matplotlib."
   ]
  },
  {
   "cell_type": "code",
   "execution_count": 17,
   "metadata": {
    "collapsed": false
   },
   "outputs": [
    {
     "data": {
      "image/png": "[encoded data removed]",
      "text/plain": [
       "<matplotlib.figure.Figure at 0x113930f10>"
      ]
     },
     "metadata": {},
     "output_type": "display_data"
    }
   ],
   "source": [
    "def get_digit(data, dig_index):\n",
    "    digit_grid = np.reshape(data[dig_index], (28, 28))\n",
    "    \n",
    "    return digit_grid\n",
    "\n",
    "\n",
    "fig = plt.figure(1, (5., 5.))\n",
    "grid = ImageGrid(fig, 111,\n",
    "                 nrows_ncols = (5, 5),  # creates 2x2 grid of axes\n",
    "                 axes_pad = 0.1,  # pad between axes in inch.\n",
    "                 )\n",
    "for i in range(25):\n",
    "    grid[i].imshow(get_digit(train_x, i), cmap = cm.Greys_r, interpolation='none')  # The AxesGrid object work as a list of axes."
   ]
  },
  {
   "cell_type": "markdown",
   "metadata": {},
   "source": [
    "Now let's do some classification. Choices include:\n",
    "\n",
    "- k nearest neighbors\n",
    "- logistic regression\n",
    "- SVM\n"
   ]
  },
  {
   "cell_type": "code",
   "execution_count": 18,
   "metadata": {
    "collapsed": false
   },
   "outputs": [],
   "source": [
    "# Here's the code I copied from the template file. I've added some notes.\n",
    "\n",
    "#train_x = train.values[:,1:]\n",
    "#train_y = train.ix[:,0]\n",
    "#train_x = train.values[:,1:]\n",
    "#train_y = train.ix[:,0]\n",
    "\n",
    "# First we perform PCA, since we expect a high degree of correlation\n",
    "# between the pixels, and to have many non-informative pixels.\n",
    "# \" if 0 < n_components < 1, select the number of components such that the amount of variance that needs to be explained is greater than the percentage specified by n_components\"\n",
    "pca = PCA(n_components=0.8,whiten=True)\n",
    "train_x_pca = pca.fit_transform(train_x)\n",
    "test_x_pca = pca.transform(test_x)\n",
    "\n",
    "'''whiten : bool, optional\n",
    "When True (False by default) the components_ vectors are divided \n",
    "by n_samples times singular values to ensure uncorrelated outputs \n",
    "with unit component-wise variances.\n",
    "Whitening will remove some information from the transformed signal\n",
    "(the relative variance scales of the components) \n",
    "but can sometime improve the predictive accuracy of the downstream \n",
    "estimators by making there data respect some hard-wired assumptions.'''\n",
    "\n",
    "svc = svm.SVC(kernel='rbf',C=10)\n",
    "# What does the rbf kernel do in this case? Does it take care of the gray values?\n",
    "svc.fit(train_x_pca, train_y)\n",
    "\n",
    "test_pred = svc.predict(test_x_pca)\n",
    "pd.DataFrame({\"ImageId\": range(1,len(test_y)+1), \"Label\": test_pred}).to_csv('out.csv', index=False, header=True)"
   ]
  },
  {
   "cell_type": "code",
   "execution_count": 22,
   "metadata": {
    "collapsed": false
   },
   "outputs": [
    {
     "name": "stdout",
     "output_type": "stream",
     "text": [
      "[9 1 3 ..., 0 0 1]\n",
      "4\n"
     ]
    }
   ],
   "source": [
    "print test_pred\n",
    "print sum(test_pred != test_y)"
   ]
  },
  {
   "cell_type": "code",
   "execution_count": null,
   "metadata": {
    "collapsed": true
   },
   "outputs": [],
   "source": []
  }
 ],
 "metadata": {
  "kernelspec": {
   "display_name": "Python 2",
   "language": "python",
   "name": "python2"
  },
  "language_info": {
   "codemirror_mode": {
    "name": "ipython",
    "version": 2
   },
   "file_extension": ".py",
   "mimetype": "text/x-python",
   "name": "python",
   "nbconvert_exporter": "python",
   "pygments_lexer": "ipython2",
   "version": "2.7.10"
  }
 },
 "nbformat": 4,
 "nbformat_minor": 0
}
